{
 "cells": [
  {
   "cell_type": "code",
   "execution_count": 2,
   "id": "d4a18421",
   "metadata": {},
   "outputs": [
    {
     "name": "stdout",
     "output_type": "stream",
     "text": [
      "enter your guess\n",
      "5\n",
      "your guess is  5\n",
      "the secret  3\n",
      "too high.\n"
     ]
    }
   ],
   "source": [
    "#4.1\n",
    "import random\n",
    "\n",
    "print(\"enter your guess\")\n",
    "number_set = [1, 2, 3, 4, 5, 6, 7, 8, 9, 10]\n",
    "secret = random.randrange(len(number_set))\n",
    "guess = int(input())\n",
    "print(\"your guess is \", guess)\n",
    "print(\"the secret \", secret)\n",
    "if guess in number_set and guess == secret:\n",
    "    print(\"yep, that is the number, you guessed it.\")\n",
    "elif guess not in number_set:\n",
    "    print(\"the guess needs to be between 1 and 10.\")\n",
    "elif guess > secret:\n",
    "    print(\"too high.\")\n",
    "elif guess < secret:\n",
    "    print(\"too low.\")\n",
    "elif guess not in number_set:\n",
    "    print(\"your guess number is not in the correct parameters.\")\n",
    "else:\n",
    "    print(\"You really need to read the instructions.\")"
   ]
  },
  {
   "cell_type": "code",
   "execution_count": 4,
   "id": "50633f71",
   "metadata": {},
   "outputs": [
    {
     "name": "stdout",
     "output_type": "stream",
     "text": [
      "pea\n"
     ]
    }
   ],
   "source": [
    "#4.2\n",
    "small = True\n",
    "green = True\n",
    "if small:\n",
    "    if green:\n",
    "        print(\"pea\")\n",
    "    else:\n",
    "        print(\"cherry\")\n",
    "else:\n",
    "    if green:\n",
    "        print(\"watermelon\")\n",
    "    else:\n",
    "        print(\"pumpkin\")"
   ]
  },
  {
   "cell_type": "code",
   "execution_count": 6,
   "id": "24c46d89",
   "metadata": {},
   "outputs": [
    {
     "name": "stdout",
     "output_type": "stream",
     "text": [
      "0\n",
      "1\n",
      "2\n",
      "3\n"
     ]
    }
   ],
   "source": [
    "#6.1\n",
    "number_list = [3,2,1,0]\n",
    "number = 0\n",
    "for number in number_list:\n",
    "    print (number_list[number])\n"
   ]
  },
  {
   "cell_type": "code",
   "execution_count": 15,
   "id": "394ee299",
   "metadata": {},
   "outputs": [
    {
     "name": "stdout",
     "output_type": "stream",
     "text": [
      "too low!\n",
      "too low!\n",
      "too low!\n",
      "too low!\n",
      "too low!\n",
      "too low!\n",
      "found it!\n"
     ]
    }
   ],
   "source": [
    "#6.2\n",
    "guess_me = 7\n",
    "number = 1\n",
    "while number <= guess_me:\n",
    "    if number < guess_me:\n",
    "        print(\"too low!\")\n",
    "    elif number == guess_me:\n",
    "        print(\"found it!\")\n",
    "        break\n",
    "    elif number > guess_me:\n",
    "        print(\"oops\")\n",
    "        break\n",
    "    number += 1"
   ]
  },
  {
   "cell_type": "code",
   "execution_count": 16,
   "id": "3c68c3e1",
   "metadata": {},
   "outputs": [
    {
     "name": "stdout",
     "output_type": "stream",
     "text": [
      "too low!\n",
      "too low!\n",
      "too low!\n",
      "too low!\n",
      "too low!\n",
      "found it!\n"
     ]
    }
   ],
   "source": [
    "#6.3\n",
    "guess_me = 5\n",
    "for number in range(0,11):\n",
    "    if number < guess_me:\n",
    "        print(\"too low!\")\n",
    "    elif number == guess_me:\n",
    "        print(\"found it!\")\n",
    "        break\n",
    "    elif number > guess_me:\n",
    "        print(\"oops\")\n",
    "        break"
   ]
  },
  {
   "cell_type": "code",
   "execution_count": null,
   "id": "510eca28",
   "metadata": {},
   "outputs": [],
   "source": []
  }
 ],
 "metadata": {
  "kernelspec": {
   "display_name": "Python 3 (ipykernel)",
   "language": "python",
   "name": "python3"
  },
  "language_info": {
   "codemirror_mode": {
    "name": "ipython",
    "version": 3
   },
   "file_extension": ".py",
   "mimetype": "text/x-python",
   "name": "python",
   "nbconvert_exporter": "python",
   "pygments_lexer": "ipython3",
   "version": "3.9.12"
  }
 },
 "nbformat": 4,
 "nbformat_minor": 5
}
